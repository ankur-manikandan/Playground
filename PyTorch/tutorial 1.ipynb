{
 "cells": [
  {
   "cell_type": "code",
   "execution_count": 1,
   "metadata": {},
   "outputs": [],
   "source": [
    "import torch"
   ]
  },
  {
   "cell_type": "code",
   "execution_count": 2,
   "metadata": {},
   "outputs": [
    {
     "data": {
      "text/plain": [
       "'1.4.0'"
      ]
     },
     "execution_count": 2,
     "metadata": {},
     "output_type": "execute_result"
    }
   ],
   "source": [
    "torch.__version__"
   ]
  },
  {
   "cell_type": "code",
   "execution_count": 4,
   "metadata": {},
   "outputs": [
    {
     "name": "stdout",
     "output_type": "stream",
     "text": [
      "tensor([[ 0.0000e+00, -1.5846e+29,  8.2063e-05],\n",
      "        [-8.5920e+09,  1.1210e-44,  0.0000e+00],\n",
      "        [ 0.0000e+00,  0.0000e+00,  0.0000e+00],\n",
      "        [ 0.0000e+00,  0.0000e+00,  0.0000e+00],\n",
      "        [ 0.0000e+00,  0.0000e+00,  0.0000e+00]])\n"
     ]
    }
   ],
   "source": [
    "x = torch.empty(5, 3)\n",
    "print(x)"
   ]
  },
  {
   "cell_type": "code",
   "execution_count": 7,
   "metadata": {},
   "outputs": [
    {
     "name": "stdout",
     "output_type": "stream",
     "text": [
      "tensor([[0.8640, 0.5815, 0.7681],\n",
      "        [0.0116, 0.2910, 0.3649],\n",
      "        [0.9077, 0.4202, 0.7275],\n",
      "        [0.9650, 0.9403, 0.1893],\n",
      "        [0.2171, 0.3657, 0.8782]])\n"
     ]
    }
   ],
   "source": [
    "x = torch.rand(5, 3)\n",
    "print(x)"
   ]
  },
  {
   "cell_type": "code",
   "execution_count": 9,
   "metadata": {},
   "outputs": [
    {
     "name": "stdout",
     "output_type": "stream",
     "text": [
      "tensor([[0, 0, 0],\n",
      "        [0, 0, 0],\n",
      "        [0, 0, 0],\n",
      "        [0, 0, 0],\n",
      "        [0, 0, 0]])\n"
     ]
    }
   ],
   "source": [
    "x = torch.zeros(5, 3, dtype=torch.long)\n",
    "print(x)"
   ]
  },
  {
   "cell_type": "code",
   "execution_count": 10,
   "metadata": {},
   "outputs": [
    {
     "name": "stdout",
     "output_type": "stream",
     "text": [
      "tensor([[1., 1., 1., 1., 1.],\n",
      "        [1., 1., 1., 1., 1.],\n",
      "        [1., 1., 1., 1., 1.],\n",
      "        [1., 1., 1., 1., 1.],\n",
      "        [1., 1., 1., 1., 1.],\n",
      "        [1., 1., 1., 1., 1.],\n",
      "        [1., 1., 1., 1., 1.],\n",
      "        [1., 1., 1., 1., 1.],\n",
      "        [1., 1., 1., 1., 1.],\n",
      "        [1., 1., 1., 1., 1.]])\n"
     ]
    }
   ],
   "source": [
    "y = torch.ones(10, 5)\n",
    "print(y)"
   ]
  },
  {
   "cell_type": "code",
   "execution_count": 13,
   "metadata": {},
   "outputs": [
    {
     "name": "stdout",
     "output_type": "stream",
     "text": [
      "tensor([[ 0.0127, -0.4130,  0.3128,  0.5693, -1.3704],\n",
      "        [-0.1756, -0.7000,  1.2142, -0.8058,  0.9013],\n",
      "        [ 1.1970,  1.3674, -0.6095,  1.9823, -0.5885],\n",
      "        [ 0.4387, -1.5506,  0.7676, -2.3280,  1.3214],\n",
      "        [ 0.8771,  1.8278, -1.5217,  0.6710,  0.1679],\n",
      "        [-0.3242, -1.7542, -0.1558,  1.7153, -0.2445],\n",
      "        [-0.9591,  0.2288,  1.0544, -0.2152,  0.6921],\n",
      "        [-0.0620,  0.8997, -0.1388, -0.4805,  0.3938],\n",
      "        [-0.7967, -1.2044,  0.1038,  0.9867,  1.6194],\n",
      "        [ 0.4805,  1.0587,  0.6694, -0.5846, -1.5636]])\n",
      "torch.Size([10, 5])\n"
     ]
    }
   ],
   "source": [
    "x = torch.randn_like(y)\n",
    "print(x)\n",
    "print(x.size())"
   ]
  },
  {
   "cell_type": "code",
   "execution_count": 14,
   "metadata": {},
   "outputs": [
    {
     "data": {
      "text/plain": [
       "tensor([ 0.4387, -1.5506,  0.7676])"
      ]
     },
     "execution_count": 14,
     "metadata": {},
     "output_type": "execute_result"
    }
   ],
   "source": [
    "x[3, :3]"
   ]
  },
  {
   "cell_type": "code",
   "execution_count": 15,
   "metadata": {},
   "outputs": [
    {
     "data": {
      "text/plain": [
       "tensor([[ 1.0127,  0.5870,  1.3128,  1.5693, -0.3704],\n",
       "        [ 0.8244,  0.3000,  2.2142,  0.1942,  1.9013],\n",
       "        [ 2.1970,  2.3674,  0.3905,  2.9823,  0.4115],\n",
       "        [ 1.4387, -0.5506,  1.7676, -1.3280,  2.3214],\n",
       "        [ 1.8771,  2.8278, -0.5217,  1.6710,  1.1679],\n",
       "        [ 0.6758, -0.7542,  0.8442,  2.7153,  0.7555],\n",
       "        [ 0.0409,  1.2288,  2.0544,  0.7848,  1.6921],\n",
       "        [ 0.9380,  1.8997,  0.8612,  0.5195,  1.3938],\n",
       "        [ 0.2033, -0.2044,  1.1038,  1.9867,  2.6194],\n",
       "        [ 1.4805,  2.0587,  1.6694,  0.4154, -0.5636]])"
      ]
     },
     "execution_count": 15,
     "metadata": {},
     "output_type": "execute_result"
    }
   ],
   "source": [
    "y.add_(x)"
   ]
  },
  {
   "cell_type": "code",
   "execution_count": 19,
   "metadata": {},
   "outputs": [
    {
     "data": {
      "text/plain": [
       "torch.Size([10, 5])"
      ]
     },
     "execution_count": 19,
     "metadata": {},
     "output_type": "execute_result"
    }
   ],
   "source": [
    "x.size()"
   ]
  },
  {
   "cell_type": "code",
   "execution_count": 21,
   "metadata": {},
   "outputs": [
    {
     "data": {
      "text/plain": [
       "tensor([[ 0.0127, -0.4130,  0.3128,  0.5693, -1.3704],\n",
       "        [-0.1756, -0.7000,  1.2142, -0.8058,  0.9013],\n",
       "        [ 1.1970,  1.3674, -0.6095,  1.9823, -0.5885],\n",
       "        [ 0.4387, -1.5506,  0.7676, -2.3280,  1.3214],\n",
       "        [ 0.8771,  1.8278, -1.5217,  0.6710,  0.1679],\n",
       "        [-0.3242, -1.7542, -0.1558,  1.7153, -0.2445],\n",
       "        [-0.9591,  0.2288,  1.0544, -0.2152,  0.6921],\n",
       "        [-0.0620,  0.8997, -0.1388, -0.4805,  0.3938],\n",
       "        [-0.7967, -1.2044,  0.1038,  0.9867,  1.6194],\n",
       "        [ 0.4805,  1.0587,  0.6694, -0.5846, -1.5636]])"
      ]
     },
     "execution_count": 21,
     "metadata": {},
     "output_type": "execute_result"
    }
   ],
   "source": [
    "x"
   ]
  },
  {
   "cell_type": "code",
   "execution_count": 20,
   "metadata": {},
   "outputs": [
    {
     "data": {
      "text/plain": [
       "tensor([ 0.0127, -0.4130,  0.3128,  0.5693, -1.3704, -0.1756, -0.7000,  1.2142,\n",
       "        -0.8058,  0.9013,  1.1970,  1.3674, -0.6095,  1.9823, -0.5885,  0.4387,\n",
       "        -1.5506,  0.7676, -2.3280,  1.3214,  0.8771,  1.8278, -1.5217,  0.6710,\n",
       "         0.1679, -0.3242, -1.7542, -0.1558,  1.7153, -0.2445, -0.9591,  0.2288,\n",
       "         1.0544, -0.2152,  0.6921, -0.0620,  0.8997, -0.1388, -0.4805,  0.3938,\n",
       "        -0.7967, -1.2044,  0.1038,  0.9867,  1.6194,  0.4805,  1.0587,  0.6694,\n",
       "        -0.5846, -1.5636])"
      ]
     },
     "execution_count": 20,
     "metadata": {},
     "output_type": "execute_result"
    }
   ],
   "source": [
    "x.view(50)"
   ]
  },
  {
   "cell_type": "code",
   "execution_count": 22,
   "metadata": {},
   "outputs": [
    {
     "data": {
      "text/plain": [
       "tensor([[ 0.0127, -0.4130,  0.3128,  0.5693, -1.3704, -0.1756, -0.7000,  1.2142,\n",
       "         -0.8058,  0.9013],\n",
       "        [ 1.1970,  1.3674, -0.6095,  1.9823, -0.5885,  0.4387, -1.5506,  0.7676,\n",
       "         -2.3280,  1.3214],\n",
       "        [ 0.8771,  1.8278, -1.5217,  0.6710,  0.1679, -0.3242, -1.7542, -0.1558,\n",
       "          1.7153, -0.2445],\n",
       "        [-0.9591,  0.2288,  1.0544, -0.2152,  0.6921, -0.0620,  0.8997, -0.1388,\n",
       "         -0.4805,  0.3938],\n",
       "        [-0.7967, -1.2044,  0.1038,  0.9867,  1.6194,  0.4805,  1.0587,  0.6694,\n",
       "         -0.5846, -1.5636]])"
      ]
     },
     "execution_count": 22,
     "metadata": {},
     "output_type": "execute_result"
    }
   ],
   "source": [
    "x.view(5, 10)"
   ]
  },
  {
   "cell_type": "code",
   "execution_count": 23,
   "metadata": {},
   "outputs": [
    {
     "data": {
      "text/plain": [
       "array([[ 0.01274328, -0.41300428,  0.3128382 ,  0.5692999 , -1.3704106 ],\n",
       "       [-0.1755504 , -0.70000327,  1.2141696 , -0.8058369 ,  0.9012954 ],\n",
       "       [ 1.1969761 ,  1.3673986 , -0.60952467,  1.982262  , -0.5884944 ],\n",
       "       [ 0.4386527 , -1.5505977 ,  0.76760817, -2.3279665 ,  1.3213559 ],\n",
       "       [ 0.877104  ,  1.8278451 , -1.5217261 ,  0.67101717,  0.16787887],\n",
       "       [-0.32416543, -1.7542354 , -0.15581189,  1.7153159 , -0.24451546],\n",
       "       [-0.9591042 ,  0.22881505,  1.0543698 , -0.21517132,  0.69214946],\n",
       "       [-0.06202431,  0.8996586 , -0.13881262, -0.48054463,  0.39384043],\n",
       "       [-0.79672605, -1.2043958 ,  0.1037608 ,  0.98667485,  1.6193737 ],\n",
       "       [ 0.4805455 ,  1.0587374 ,  0.66936374, -0.58464074, -1.5635511 ]],\n",
       "      dtype=float32)"
      ]
     },
     "execution_count": 23,
     "metadata": {},
     "output_type": "execute_result"
    }
   ],
   "source": [
    "x.numpy()"
   ]
  },
  {
   "cell_type": "markdown",
   "metadata": {},
   "source": [
    "## Autograd"
   ]
  },
  {
   "cell_type": "code",
   "execution_count": 24,
   "metadata": {},
   "outputs": [
    {
     "data": {
      "text/plain": [
       "tensor([[ 0.0127, -0.4130,  0.3128,  0.5693, -1.3704],\n",
       "        [-0.1756, -0.7000,  1.2142, -0.8058,  0.9013],\n",
       "        [ 1.1970,  1.3674, -0.6095,  1.9823, -0.5885],\n",
       "        [ 0.4387, -1.5506,  0.7676, -2.3280,  1.3214],\n",
       "        [ 0.8771,  1.8278, -1.5217,  0.6710,  0.1679],\n",
       "        [-0.3242, -1.7542, -0.1558,  1.7153, -0.2445],\n",
       "        [-0.9591,  0.2288,  1.0544, -0.2152,  0.6921],\n",
       "        [-0.0620,  0.8997, -0.1388, -0.4805,  0.3938],\n",
       "        [-0.7967, -1.2044,  0.1038,  0.9867,  1.6194],\n",
       "        [ 0.4805,  1.0587,  0.6694, -0.5846, -1.5636]])"
      ]
     },
     "execution_count": 24,
     "metadata": {},
     "output_type": "execute_result"
    }
   ],
   "source": [
    "x"
   ]
  },
  {
   "cell_type": "code",
   "execution_count": 25,
   "metadata": {},
   "outputs": [
    {
     "data": {
      "text/plain": [
       "tensor([[ 1.0127,  0.5870,  1.3128,  1.5693, -0.3704],\n",
       "        [ 0.8244,  0.3000,  2.2142,  0.1942,  1.9013],\n",
       "        [ 2.1970,  2.3674,  0.3905,  2.9823,  0.4115],\n",
       "        [ 1.4387, -0.5506,  1.7676, -1.3280,  2.3214],\n",
       "        [ 1.8771,  2.8278, -0.5217,  1.6710,  1.1679],\n",
       "        [ 0.6758, -0.7542,  0.8442,  2.7153,  0.7555],\n",
       "        [ 0.0409,  1.2288,  2.0544,  0.7848,  1.6921],\n",
       "        [ 0.9380,  1.8997,  0.8612,  0.5195,  1.3938],\n",
       "        [ 0.2033, -0.2044,  1.1038,  1.9867,  2.6194],\n",
       "        [ 1.4805,  2.0587,  1.6694,  0.4154, -0.5636]])"
      ]
     },
     "execution_count": 25,
     "metadata": {},
     "output_type": "execute_result"
    }
   ],
   "source": [
    "y"
   ]
  },
  {
   "cell_type": "code",
   "execution_count": 26,
   "metadata": {},
   "outputs": [],
   "source": [
    "out = x + 2"
   ]
  },
  {
   "cell_type": "code",
   "execution_count": 28,
   "metadata": {},
   "outputs": [
    {
     "name": "stdout",
     "output_type": "stream",
     "text": [
      "None\n"
     ]
    }
   ],
   "source": [
    "print(out.grad_fn)"
   ]
  },
  {
   "cell_type": "code",
   "execution_count": 30,
   "metadata": {},
   "outputs": [
    {
     "data": {
      "text/plain": [
       "False"
      ]
     },
     "execution_count": 30,
     "metadata": {},
     "output_type": "execute_result"
    }
   ],
   "source": [
    "x.requires_grad"
   ]
  },
  {
   "cell_type": "code",
   "execution_count": 33,
   "metadata": {},
   "outputs": [
    {
     "name": "stdout",
     "output_type": "stream",
     "text": [
      "True\n"
     ]
    }
   ],
   "source": [
    "x.requires_grad_(True)\n",
    "print(x.requires_grad)"
   ]
  },
  {
   "cell_type": "code",
   "execution_count": 41,
   "metadata": {},
   "outputs": [],
   "source": [
    "y = x + 2"
   ]
  },
  {
   "cell_type": "code",
   "execution_count": 42,
   "metadata": {},
   "outputs": [
    {
     "name": "stdout",
     "output_type": "stream",
     "text": [
      "<AddBackward0 object at 0x7fa361e5be80>\n"
     ]
    }
   ],
   "source": [
    "print(y.grad_fn)"
   ]
  },
  {
   "cell_type": "code",
   "execution_count": 47,
   "metadata": {},
   "outputs": [
    {
     "name": "stdout",
     "output_type": "stream",
     "text": [
      "tensor(5.4277, grad_fn=<MeanBackward0>)\n"
     ]
    }
   ],
   "source": [
    "out = (y**2).mean()\n",
    "print(out)"
   ]
  },
  {
   "cell_type": "code",
   "execution_count": 48,
   "metadata": {},
   "outputs": [],
   "source": [
    "out.backward()"
   ]
  },
  {
   "cell_type": "code",
   "execution_count": 49,
   "metadata": {},
   "outputs": [
    {
     "data": {
      "text/plain": [
       "tensor([[ 0.0805,  0.0635,  0.0925,  0.1028,  0.0252],\n",
       "        [ 0.0730,  0.0520,  0.1286,  0.0478,  0.1161],\n",
       "        [ 0.1279,  0.1347,  0.0556,  0.1593,  0.0565],\n",
       "        [ 0.0975,  0.0180,  0.1107, -0.0131,  0.1329],\n",
       "        [ 0.1151,  0.1531,  0.0191,  0.1068,  0.0867],\n",
       "        [ 0.0670,  0.0098,  0.0738,  0.1486,  0.0702],\n",
       "        [ 0.0416,  0.0892,  0.1222,  0.0714,  0.1077],\n",
       "        [ 0.0775,  0.1160,  0.0744,  0.0608,  0.0958],\n",
       "        [ 0.0481,  0.0318,  0.0842,  0.1195,  0.1448],\n",
       "        [ 0.0992,  0.1223,  0.1068,  0.0566,  0.0175]])"
      ]
     },
     "execution_count": 49,
     "metadata": {},
     "output_type": "execute_result"
    }
   ],
   "source": [
    "x.grad"
   ]
  },
  {
   "cell_type": "markdown",
   "metadata": {},
   "source": [
    "## Define Neural Network"
   ]
  },
  {
   "cell_type": "code",
   "execution_count": 50,
   "metadata": {},
   "outputs": [],
   "source": [
    "import torch.nn as nn\n",
    "import torch.nn.functional as F"
   ]
  },
  {
   "cell_type": "code",
   "execution_count": 96,
   "metadata": {},
   "outputs": [],
   "source": [
    "class Net(nn.Module):\n",
    "    \n",
    "    def __init__(self):\n",
    "        super(Net, self).__init__()\n",
    "        self.conv1 = nn.Conv2d(1, 6, 3)\n",
    "        self.conv2 = nn.Conv2d(6, 16, 3)\n",
    "        self.fc1 = nn.Linear(16*6*6, 120)\n",
    "        self.fc2 = nn.Linear(120, 84)\n",
    "        self.fc3 = nn.Linear(84, 10)\n",
    "        \n",
    "    def forward(self, x):\n",
    "        x = F.max_pool2d(F.relu(self.conv1(x)), (2, 2))\n",
    "        x = F.max_pool2d(F.relu(self.conv2(x)), 2)\n",
    "        x = x.view(-1, self.num_flat_features(x))\n",
    "        x = F.relu(self.fc1(x))\n",
    "        x = F.relu(self.fc2(x))\n",
    "        x = self.fc3(x)\n",
    "        \n",
    "        return x\n",
    "        \n",
    "    def num_flat_features(self, x):\n",
    "        size = x.size()[1:]  # we do not want to include the batch dimension\n",
    "        num_features = 1\n",
    "        for s in size:\n",
    "            num_features *= s\n",
    "        \n",
    "        return num_features\n",
    "        "
   ]
  },
  {
   "cell_type": "code",
   "execution_count": 97,
   "metadata": {},
   "outputs": [
    {
     "name": "stdout",
     "output_type": "stream",
     "text": [
      "Net(\n",
      "  (conv1): Conv2d(1, 6, kernel_size=(3, 3), stride=(1, 1))\n",
      "  (conv2): Conv2d(6, 16, kernel_size=(3, 3), stride=(1, 1))\n",
      "  (fc1): Linear(in_features=576, out_features=120, bias=True)\n",
      "  (fc2): Linear(in_features=120, out_features=84, bias=True)\n",
      "  (fc3): Linear(in_features=84, out_features=10, bias=True)\n",
      ")\n"
     ]
    }
   ],
   "source": [
    "net = Net()\n",
    "print(net)"
   ]
  },
  {
   "cell_type": "code",
   "execution_count": 98,
   "metadata": {},
   "outputs": [
    {
     "name": "stdout",
     "output_type": "stream",
     "text": [
      "10\n"
     ]
    }
   ],
   "source": [
    "n_params = len(list(net.parameters()))\n",
    "print(n_params)\n"
   ]
  },
  {
   "cell_type": "code",
   "execution_count": 99,
   "metadata": {},
   "outputs": [
    {
     "name": "stdout",
     "output_type": "stream",
     "text": [
      "torch.Size([6, 1, 3, 3])\n",
      "torch.Size([6])\n",
      "torch.Size([16, 6, 3, 3])\n",
      "torch.Size([16])\n",
      "torch.Size([120, 576])\n",
      "torch.Size([120])\n",
      "torch.Size([84, 120])\n",
      "torch.Size([84])\n",
      "torch.Size([10, 84])\n",
      "torch.Size([10])\n"
     ]
    }
   ],
   "source": [
    "for i in range(n_params):\n",
    "    print(list(net.parameters())[i].size())"
   ]
  },
  {
   "cell_type": "code",
   "execution_count": 100,
   "metadata": {},
   "outputs": [],
   "source": [
    "criterion = nn.MSELoss()"
   ]
  },
  {
   "cell_type": "code",
   "execution_count": 101,
   "metadata": {},
   "outputs": [],
   "source": [
    "net.zero_grad()"
   ]
  },
  {
   "cell_type": "code",
   "execution_count": 102,
   "metadata": {},
   "outputs": [],
   "source": [
    "import torch.optim as optim"
   ]
  },
  {
   "cell_type": "code",
   "execution_count": 103,
   "metadata": {},
   "outputs": [],
   "source": [
    "input = torch.randn(1, 1, 32, 32)\n",
    "target = torch.randn(10)  # a dummy target, for example\n",
    "target = target.view(1, -1)"
   ]
  },
  {
   "cell_type": "code",
   "execution_count": 109,
   "metadata": {},
   "outputs": [],
   "source": [
    "optimizer = optim.SGD(net.parameters(), lr=0.01)\n",
    "optimizer.zero_grad()\n",
    "output = net(input)\n",
    "loss = criterion(output, target)\n",
    "loss.backward()\n",
    "optimizer.step()"
   ]
  },
  {
   "cell_type": "code",
   "execution_count": 110,
   "metadata": {},
   "outputs": [
    {
     "data": {
      "text/plain": [
       "1.1354063749313354"
      ]
     },
     "execution_count": 110,
     "metadata": {},
     "output_type": "execute_result"
    }
   ],
   "source": [
    "loss.item()"
   ]
  },
  {
   "cell_type": "markdown",
   "metadata": {},
   "source": [
    "## Train a network"
   ]
  },
  {
   "cell_type": "code",
   "execution_count": 112,
   "metadata": {},
   "outputs": [],
   "source": [
    "import torchvision\n",
    "import torchvision.transforms as transforms"
   ]
  },
  {
   "cell_type": "code",
   "execution_count": 113,
   "metadata": {},
   "outputs": [
    {
     "name": "stdout",
     "output_type": "stream",
     "text": [
      "Files already downloaded and verified\n",
      "Files already downloaded and verified\n"
     ]
    }
   ],
   "source": [
    "transform = transforms.Compose(\n",
    "    [transforms.ToTensor(),\n",
    "     transforms.Normalize((0.5, 0.5, 0.5), (0.5, 0.5, 0.5))])\n",
    "\n",
    "trainset = torchvision.datasets.CIFAR10(root='./data', train=True,\n",
    "                                        download=True, transform=transform)\n",
    "trainloader = torch.utils.data.DataLoader(trainset, batch_size=4,\n",
    "                                          shuffle=True, num_workers=2)\n",
    "\n",
    "testset = torchvision.datasets.CIFAR10(root='./data', train=False,\n",
    "                                       download=True, transform=transform)\n",
    "testloader = torch.utils.data.DataLoader(testset, batch_size=4,\n",
    "                                         shuffle=False, num_workers=2)\n",
    "\n",
    "classes = ('plane', 'car', 'bird', 'cat',\n",
    "           'deer', 'dog', 'frog', 'horse', 'ship', 'truck')"
   ]
  },
  {
   "cell_type": "code",
   "execution_count": 114,
   "metadata": {},
   "outputs": [
    {
     "data": {
      "image/png": "[encoded data removed]",
      "text/plain": [
       "<Figure size 432x288 with 1 Axes>"
      ]
     },
     "metadata": {
      "needs_background": "light"
     },
     "output_type": "display_data"
    },
    {
     "name": "stdout",
     "output_type": "stream",
     "text": [
      "  car  frog   car   dog\n"
     ]
    }
   ],
   "source": [
    "import matplotlib.pyplot as plt\n",
    "import numpy as np\n",
    "\n",
    "# functions to show an image\n",
    "\n",
    "\n",
    "def imshow(img):\n",
    "    img = img / 2 + 0.5     # unnormalize\n",
    "    npimg = img.numpy()\n",
    "    plt.imshow(np.transpose(npimg, (1, 2, 0)))\n",
    "    plt.show()\n",
    "\n",
    "\n",
    "# get some random training images\n",
    "dataiter = iter(trainloader)\n",
    "images, labels = dataiter.next()\n",
    "\n",
    "# show images\n",
    "imshow(torchvision.utils.make_grid(images))\n",
    "# print labels\n",
    "print(' '.join('%5s' % classes[labels[j]] for j in range(4)))"
   ]
  },
  {
   "cell_type": "code",
   "execution_count": 115,
   "metadata": {},
   "outputs": [],
   "source": [
    "class Net(nn.Module):\n",
    "    def __init__(self):\n",
    "        super(Net, self).__init__()\n",
    "        self.conv1 = nn.Conv2d(3, 6, 5)\n",
    "        self.pool = nn.MaxPool2d(2, 2)\n",
    "        self.conv2 = nn.Conv2d(6, 16, 5)\n",
    "        self.fc1 = nn.Linear(16*5*5, 120)\n",
    "        self.fc2 = nn.Linear(120, 84)\n",
    "        self.fc3 = nn.Linear(84, 10)\n",
    "        \n",
    "    def forward(self, x):\n",
    "        x = self.pool(F.relu(self.conv1(x)))\n",
    "        x = self.pool(F.relu(self.conv2(x)))\n",
    "        x = x.view(-1, 16*5*5)\n",
    "        x = F.relu(self.fc1(x))\n",
    "        x = F.relu(self.fc2(x))\n",
    "        x = self.fc3(x)\n",
    "        \n",
    "        return x\n",
    "    \n",
    "net = Net()"
   ]
  },
  {
   "cell_type": "code",
   "execution_count": 116,
   "metadata": {},
   "outputs": [],
   "source": [
    "criterion = nn.CrossEntropyLoss()\n",
    "optimizer = optim.SGD(net.parameters(), lr=0.001, momentum=0.9)"
   ]
  },
  {
   "cell_type": "code",
   "execution_count": 117,
   "metadata": {},
   "outputs": [
    {
     "name": "stdout",
     "output_type": "stream",
     "text": [
      "[1,  2000] loss: 2.240\n",
      "[1,  4000] loss: 1.875\n",
      "[1,  6000] loss: 1.672\n",
      "[1,  8000] loss: 1.598\n",
      "[1, 10000] loss: 1.532\n",
      "[1, 12000] loss: 1.494\n",
      "[2,  2000] loss: 1.407\n",
      "[2,  4000] loss: 1.376\n",
      "[2,  6000] loss: 1.355\n",
      "[2,  8000] loss: 1.328\n",
      "[2, 10000] loss: 1.322\n",
      "[2, 12000] loss: 1.304\n",
      "Finished Training\n"
     ]
    }
   ],
   "source": [
    "for epoch in range(2):\n",
    "    running_loss = 0.0\n",
    "    for i, data in enumerate(trainloader, 0):\n",
    "        inputs, labels = data\n",
    "        \n",
    "        optimizer.zero_grad()\n",
    "        \n",
    "        outputs = net(inputs)\n",
    "        loss = criterion(outputs, labels)\n",
    "        loss.backward()\n",
    "        optimizer.step()\n",
    "        \n",
    "        running_loss += loss.item()\n",
    "        if i % 2000 == 1999:\n",
    "            print('[%d, %5d] loss: %.3f' %\n",
    "                  (epoch + 1, i + 1, running_loss / 2000))\n",
    "            running_loss = 0.0\n",
    "\n",
    "print('Finished Training')"
   ]
  },
  {
   "cell_type": "code",
   "execution_count": 118,
   "metadata": {},
   "outputs": [
    {
     "name": "stdout",
     "output_type": "stream",
     "text": [
      "Accuracy of the network on the 10000 test images: 55 %\n"
     ]
    }
   ],
   "source": [
    "correct = 0\n",
    "total = 0\n",
    "with torch.no_grad():\n",
    "    for data in testloader:\n",
    "        images, labels = data\n",
    "        outputs = net(images)\n",
    "        _, predicted = torch.max(outputs.data, 1)\n",
    "        total += labels.size(0)\n",
    "        correct += (predicted == labels).sum().item()\n",
    "\n",
    "print('Accuracy of the network on the 10000 test images: %d %%' % (\n",
    "    100 * correct / total))"
   ]
  },
  {
   "cell_type": "code",
   "execution_count": null,
   "metadata": {},
   "outputs": [],
   "source": []
  }
 ],
 "metadata": {
  "kernelspec": {
   "display_name": "Python 3",
   "language": "python",
   "name": "python3"
  },
  "language_info": {
   "codemirror_mode": {
    "name": "ipython",
    "version": 3
   },
   "file_extension": ".py",
   "mimetype": "text/x-python",
   "name": "python",
   "nbconvert_exporter": "python",
   "pygments_lexer": "ipython3",
   "version": "3.7.3"
  }
 },
 "nbformat": 4,
 "nbformat_minor": 4
}
