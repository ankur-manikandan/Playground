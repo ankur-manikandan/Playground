{
 "cells": [
  {
   "cell_type": "code",
   "execution_count": 1,
   "metadata": {},
   "outputs": [],
   "source": [
    "import requests"
   ]
  },
  {
   "cell_type": "code",
   "execution_count": 2,
   "metadata": {},
   "outputs": [],
   "source": [
    "link = 'https://texttospeech.googleapis.com/v1beta1/text:synthesize'\n",
    "r =requests.get(link)"
   ]
  },
  {
   "cell_type": "code",
   "execution_count": 4,
   "metadata": {},
   "outputs": [
    {
     "data": {
      "text/plain": [
       "404"
      ]
     },
     "execution_count": 4,
     "metadata": {},
     "output_type": "execute_result"
    }
   ],
   "source": [
    "r.status_code"
   ]
  },
  {
   "cell_type": "code",
   "execution_count": 8,
   "metadata": {},
   "outputs": [],
   "source": [
    "ploads = {\n",
    "  \"audioConfig\": {\n",
    "    \"audioEncoding\": \"LINEAR16\",\n",
    "    \"effectsProfileId\": [\n",
    "      \"handset-class-device\"\n",
    "    ],\n",
    "    \"pitch\": 0,\n",
    "    \"speakingRate\": 1\n",
    "  },\n",
    "  \"input\": {\n",
    "    \"text\": \"Google क्लाउड टेक्स्ट-टू-स्पीच डेवलपर्स को कई भाषाओं और वेरिएंट में उपलब्ध 100+ आवाज़ के साथ प्राकृतिक-ध्वनि वाले भाषण को संश्लेषित करने में सक्षम बनाता है। यह WaveNet और Google के शक्तिशाली तंत्रिका नेटवर्क में दीपमाइंड के ज़बरदस्त शोध को लागू करता है ताकि उच्चतम निष्ठा संभव हो सके। एक आसान-से-उपयोग वाले एपीआई के रूप में, आप कई अनुप्रयोगों और उपकरणों में अपने उपयोगकर्ताओं के साथ आजीवन बातचीत बना सकते हैं।\"\n",
    "  },\n",
    "  \"voice\": {\n",
    "    \"languageCode\": \"hi-IN\",\n",
    "    \"name\": \"hi-IN-Standard-D\"\n",
    "  }\n",
    "}"
   ]
  },
  {
   "cell_type": "code",
   "execution_count": 9,
   "metadata": {},
   "outputs": [
    {
     "name": "stdout",
     "output_type": "stream",
     "text": [
      "{\n",
      "  \"error\": {\n",
      "    \"code\": 400,\n",
      "    \"message\": \"Invalid JSON payload received. Unknown name \\\"input\\\": Cannot bind query parameter. 'input' is a message type. Parameters can only be bound to primitive types.\\nInvalid JSON payload received. Unknown name \\\"voice\\\": Cannot bind query parameter. 'voice' is a message type. Parameters can only be bound to primitive types.\\nInvalid JSON payload received. Unknown name \\\"audioConfig\\\": Cannot bind query parameter. 'audioConfig' is a message type. Parameters can only be bound to primitive types.\",\n",
      "    \"status\": \"INVALID_ARGUMENT\",\n",
      "    \"details\": [\n",
      "      {\n",
      "        \"@type\": \"type.googleapis.com/google.rpc.BadRequest\",\n",
      "        \"fieldViolations\": [\n",
      "          {\n",
      "            \"description\": \"Invalid JSON payload received. Unknown name \\\"input\\\": Cannot bind query parameter. 'input' is a message type. Parameters can only be bound to primitive types.\"\n",
      "          },\n",
      "          {\n",
      "            \"description\": \"Invalid JSON payload received. Unknown name \\\"voice\\\": Cannot bind query parameter. 'voice' is a message type. Parameters can only be bound to primitive types.\"\n",
      "          },\n",
      "          {\n",
      "            \"description\": \"Invalid JSON payload received. Unknown name \\\"audioConfig\\\": Cannot bind query parameter. 'audioConfig' is a message type. Parameters can only be bound to primitive types.\"\n",
      "          }\n",
      "        ]\n",
      "      }\n",
      "    ]\n",
      "  }\n",
      "}\n",
      "\n",
      "https://texttospeech.googleapis.com/v1beta1/text:synthesize\n"
     ]
    }
   ],
   "source": [
    "r = requests.post(link, data=ploads)\n",
    "print(r.text)\n",
    "print(r.url)"
   ]
  },
  {
   "cell_type": "code",
   "execution_count": null,
   "metadata": {},
   "outputs": [],
   "source": []
  }
 ],
 "metadata": {
  "kernelspec": {
   "display_name": "Python 3",
   "language": "python",
   "name": "python3"
  },
  "language_info": {
   "codemirror_mode": {
    "name": "ipython",
    "version": 3
   },
   "file_extension": ".py",
   "mimetype": "text/x-python",
   "name": "python",
   "nbconvert_exporter": "python",
   "pygments_lexer": "ipython3",
   "version": "3.7.3"
  }
 },
 "nbformat": 4,
 "nbformat_minor": 2
}
