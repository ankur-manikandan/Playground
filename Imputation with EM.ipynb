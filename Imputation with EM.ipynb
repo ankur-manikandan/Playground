{
 "cells": [
  {
   "cell_type": "code",
   "execution_count": 1,
   "metadata": {},
   "outputs": [],
   "source": [
    "from datetime import datetime as dt\n",
    "import numpy as np\n",
    "from functools import reduce"
   ]
  },
  {
   "cell_type": "code",
   "execution_count": 2,
   "metadata": {},
   "outputs": [],
   "source": [
    "np.random.seed(1024)\n",
    "mu = np.array([1, 2, 6])\n",
    "Sigma = np.array([[118, 62, 44], [62, 49, 17], [44, 17, 21]])\n",
    "n = 400\n",
    "X_truth = np.random.multivariate_normal(mu, Sigma, n)"
   ]
  },
  {
   "cell_type": "code",
   "execution_count": 3,
   "metadata": {},
   "outputs": [],
   "source": [
    "def simulate_nan(X, nan_rate):\n",
    "    '''(np.array, number) -> {str: np.array or number}\n",
    "    \n",
    "    Preconditions:\n",
    "    1. np.isnan(X_complete).any() == False\n",
    "    2. 0 <= nan_rate <= 1\n",
    "    \n",
    "    Return the dictionary with four keys where: \n",
    "    - Key 'X' stores a np.array where some of the entries in X \n",
    "      are replaced with np.nan based on nan_rate specified.\n",
    "    - Key 'C' stores a np.array where each entry is False if the\n",
    "      corresponding entry in the key 'X''s np.array is np.nan, and True\n",
    "      otherwise.\n",
    "    - Key 'nan_rate' stores nan_rate specified.\n",
    "    - Key 'nan_rate_actual' stores the actual proportion of np.nan\n",
    "      in the key 'X''s np.array.\n",
    "    '''\n",
    "    \n",
    "    # Create C matrix; entry is False if missing, and True if observed\n",
    "    X_complete = X.copy()\n",
    "    nr, nc = X_complete.shape\n",
    "    C = np.random.random(nr * nc).reshape(nr, nc) > nan_rate\n",
    "    \n",
    "    # Check for which i's we have all components become missing\n",
    "    checker = np.where(sum(C.T) == 0)[0]\n",
    "    if len(checker) == 0:\n",
    "        # Every X_i has at least one component that is observed,\n",
    "        # which is what we want\n",
    "        X_complete[C == False] = np.nan\n",
    "    else:\n",
    "        # Otherwise, randomly \"revive\" some components in such X_i's\n",
    "        for index in checker:\n",
    "            reviving_components = np.random.choice(\n",
    "                nc, \n",
    "                int(np.ceil(nc * np.random.random())), \n",
    "                replace = False\n",
    "            )\n",
    "            C[index, np.ix_(reviving_components)] = True\n",
    "        X_complete[C == False] = np.nan\n",
    "    \n",
    "    result = {\n",
    "        'X': X_complete,\n",
    "        'C': C,\n",
    "        'nan_rate': nan_rate,\n",
    "        'nan_rate_actual': np.sum(C == False) / (nr * nc)\n",
    "    }\n",
    "    \n",
    "    return result\n"
   ]
  },
  {
   "cell_type": "code",
   "execution_count": 4,
   "metadata": {},
   "outputs": [],
   "source": [
    "result = simulate_nan(X_truth, nan_rate = .4)\n",
    "X = result['X'].copy()"
   ]
  },
  {
   "cell_type": "code",
   "execution_count": 5,
   "metadata": {},
   "outputs": [
    {
     "data": {
      "text/plain": [
       "array([[-22.51504305,          nan,          nan],\n",
       "       [ -4.13801604,          nan,          nan],\n",
       "       [ -6.96117925,  -4.78845229,   1.21653198],\n",
       "       ...,\n",
       "       [ -8.53309711,  -4.17104975,   3.44262394],\n",
       "       [  1.37769221,          nan,   5.10726117],\n",
       "       [  7.61570646,   2.48587502,  11.05380599]])"
      ]
     },
     "execution_count": 5,
     "metadata": {},
     "output_type": "execute_result"
    }
   ],
   "source": [
    "X"
   ]
  },
  {
   "cell_type": "code",
   "execution_count": null,
   "metadata": {},
   "outputs": [],
   "source": []
  }
 ],
 "metadata": {
  "kernelspec": {
   "display_name": "Python 3",
   "language": "python",
   "name": "python3"
  },
  "language_info": {
   "codemirror_mode": {
    "name": "ipython",
    "version": 3
   },
   "file_extension": ".py",
   "mimetype": "text/x-python",
   "name": "python",
   "nbconvert_exporter": "python",
   "pygments_lexer": "ipython3",
   "version": "3.7.3"
  }
 },
 "nbformat": 4,
 "nbformat_minor": 2
}
