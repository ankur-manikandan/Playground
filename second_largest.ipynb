{
 "cells": [
  {
   "cell_type": "code",
   "execution_count": 4,
   "metadata": {},
   "outputs": [
    {
     "name": "stdout",
     "output_type": "stream",
     "text": [
      "max 4\n",
      "arr 4\n",
      "diff 0\n",
      "pos 0\n",
      "\n",
      "Second largest:  4\n"
     ]
    }
   ],
   "source": [
    "arr = [4, 3, 1, 2]\n",
    "\n",
    "n = len(arr)\n",
    "\n",
    "max = 0\n",
    "diff = 1\n",
    "\n",
    "for i in range(n):\n",
    "    if max < arr[i]:\n",
    "        max = arr[i]\n",
    "        print(\"max\", max)\n",
    "        print(\"arr\", arr[i])\n",
    "    if diff > max-arr[i]:\n",
    "        diff = max-arr[i]\n",
    "        pos = i\n",
    "        print(\"diff\", diff)\n",
    "        print(\"pos\", pos)\n",
    "            \n",
    "print(\"\\nSecond largest: \", arr[pos])\n",
    "        \n",
    "    "
   ]
  },
  {
   "cell_type": "code",
   "execution_count": 19,
   "metadata": {},
   "outputs": [
    {
     "name": "stdout",
     "output_type": "stream",
     "text": [
      "49\n"
     ]
    }
   ],
   "source": [
    "import numpy as np\n",
    "\n",
    "arr = list(range(50))\n",
    "n = len(arr)\n",
    "arr = np.random.choice(arr, replace=False, size=n)\n",
    "arr\n",
    "\n",
    "m1 = 0\n",
    "m2 = 0\n",
    "\n",
    "for i in range(n):\n",
    "    if m1 < arr[i]:\n",
    "        m1 = arr[i]\n",
    "        m2 = m1\n",
    "    if m1 < m2:\n",
    "        m1 = m2\n",
    "    \n",
    "print(m2)"
   ]
  },
  {
   "cell_type": "code",
   "execution_count": null,
   "metadata": {},
   "outputs": [],
   "source": []
  }
 ],
 "metadata": {
  "kernelspec": {
   "display_name": "Python 3",
   "language": "python",
   "name": "python3"
  },
  "language_info": {
   "codemirror_mode": {
    "name": "ipython",
    "version": 3
   },
   "file_extension": ".py",
   "mimetype": "text/x-python",
   "name": "python",
   "nbconvert_exporter": "python",
   "pygments_lexer": "ipython3",
   "version": "3.7.3"
  }
 },
 "nbformat": 4,
 "nbformat_minor": 2
}
